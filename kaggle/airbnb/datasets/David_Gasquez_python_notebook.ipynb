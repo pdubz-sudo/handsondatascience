{
  "cells": [
    {
      "metadata": {
        "_uuid": "f337637373ef9bce39f053fbfc0404fd44457299",
        "trusted": false,
        "collapsed": true
      },
      "cell_type": "code",
      "source": "import numpy as np\nimport pandas as pd\nimport matplotlib.pyplot as plt\nimport seaborn as sns\n\n# Draw inline\n%matplotlib inline\n\n# Set figure aesthetics\nsns.set_style(\"white\", {'ytick.major.size': 10.0})\nsns.set_context(\"poster\", font_scale=1.1)",
      "execution_count": null,
      "outputs": []
    },
    {
      "metadata": {
        "_uuid": "62ec33fed30bf95e07d32d77dec029008aa597aa"
      },
      "cell_type": "markdown",
      "source": "I wanted to take a look at the user data we have for this competition so I made this little notebook to share my findings and discuss about those. At the moment I've started with the basic user data, I'll take a look at sessions and the other *csv* files later on this month.\n\nPlease, feel free to comment with anything you think it can be improved or fixed. I am not a professional in this field and there will be mistakes or things that can be *improved*. This is the flow I took and there are some plots not really interesting but I thought on keeping it in case someone see something interesting.\n\nLet's see the data!"
    },
    {
      "metadata": {
        "_uuid": "a912b838ea52e5071f9c94ea47592590324815c8"
      },
      "cell_type": "markdown",
      "source": "## Data Exploration"
    },
    {
      "metadata": {
        "_uuid": "064590fd787dfbe9dd10394119705d0471c7a254"
      },
      "cell_type": "markdown",
      "source": "Generally, when I start with a Data Science project I'm looking to answer the following questions:\n\n- Is there any mistakes in the data?\n- Does the data have peculiar behavior?\n- Do I need to fix or remove any of the data to be more realistic?"
    },
    {
      "metadata": {
        "_uuid": "db367e614c7b6dd7173367d4212fd53ae1f0c172",
        "trusted": false,
        "collapsed": true
      },
      "cell_type": "code",
      "source": "# Load the data into DataFrames\ntrain_users = pd.read_csv('../input/train_users.csv')\ntest_users = pd.read_csv('../input/test_users.csv')",
      "execution_count": null,
      "outputs": []
    },
    {
      "metadata": {
        "_uuid": "cac778227ab4311502ac67d62348be61098d78cc",
        "trusted": false,
        "collapsed": true
      },
      "cell_type": "code",
      "source": "print(\"We have\", train_users.shape[0], \"users in the training set and\", \n      test_users.shape[0], \"in the test set.\")\nprint(\"In total we have\", train_users.shape[0] + test_users.shape[0], \"users.\")",
      "execution_count": null,
      "outputs": []
    },
    {
      "metadata": {
        "_uuid": "a6df4d26468bee09279c0eeac639c40df71e2bef"
      },
      "cell_type": "markdown",
      "source": "Let's get those together so we can work with all the data."
    },
    {
      "metadata": {
        "_uuid": "b06ae7b7074358916e903ff44e57c2d3f0035824",
        "trusted": false,
        "collapsed": true
      },
      "cell_type": "code",
      "source": "# Merge train and test users\nusers = pd.concat((train_users, test_users), axis=0, ignore_index=True)\n\n# Remove ID's since now we are not interested in making predictions\nusers.drop('id',axis=1, inplace=True)\n\nusers.head()",
      "execution_count": null,
      "outputs": []
    },
    {
      "metadata": {
        "_uuid": "1f13bc27a75b0e40537f38f1ee65a0476d16c00a"
      },
      "cell_type": "markdown",
      "source": "The data seems to be in an ussable format so the next important thing is to take a look at the missing data."
    },
    {
      "metadata": {
        "_uuid": "b38b5992a96182ba5d7196f568b7054f03fd893b"
      },
      "cell_type": "markdown",
      "source": "### Missing Data"
    },
    {
      "metadata": {
        "_uuid": "bd8dfaa78dfe84d77f37584498f12798ca08e9c9"
      },
      "cell_type": "markdown",
      "source": "Usually the missing data comes in the way of *NaN*, but if we take a look at the DataFrame printed above we can see at the `gender` column some values being `-unknown-`. We will need to transform those values into *NaN* first:"
    },
    {
      "metadata": {
        "_uuid": "8021685ee5550a30e939295a07de33cdf78e9fff",
        "trusted": false,
        "collapsed": true
      },
      "cell_type": "code",
      "source": "users.gender.replace('-unknown-', np.nan, inplace=True)",
      "execution_count": null,
      "outputs": []
    },
    {
      "metadata": {
        "_uuid": "5b8bcef870ed2bd1f3ac0a9d92fb9e18c4e382ce"
      },
      "cell_type": "markdown",
      "source": "Now let's see how much data we are missing. For this purpose let's compute the NaN percentage of each feature."
    },
    {
      "metadata": {
        "_uuid": "fded642253e31869c0956bbc8e21cfa38262d38e",
        "trusted": false,
        "collapsed": true
      },
      "cell_type": "code",
      "source": "users_nan = (users.isnull().sum() / users.shape[0]) * 100\nusers_nan[users_nan > 0].drop('country_destination')",
      "execution_count": null,
      "outputs": []
    },
    {
      "metadata": {
        "_uuid": "2f67e74207d634b2508653fef9d3632c7269fb0d"
      },
      "cell_type": "markdown",
      "source": "We have quite a lot of *NaN* in the `age` and `gender` wich will yield in lesser performance of the classifiers we will build. The feature `date_first_booking` has a 58% of NaN values because this feature is not present at the tests users, and therefore, we won't need it at the *modeling* part."
    },
    {
      "metadata": {
        "_uuid": "fe7298c763749095529e790b7adbb62ed78d0f1a",
        "trusted": false,
        "collapsed": true
      },
      "cell_type": "code",
      "source": "print(\"Just for the sake of curiosity; we have\", \n      int((train_users.date_first_booking.isnull().sum() / train_users.shape[0]) * 100), \n      \"% of missing values at date_first_booking in the training data\")",
      "execution_count": null,
      "outputs": []
    },
    {
      "metadata": {
        "_uuid": "25aabe138677939a8a212fb1a91f1a29973889d3"
      },
      "cell_type": "markdown",
      "source": "The other feature with a high rate of *NaN* was `age`. Let's see:"
    },
    {
      "metadata": {
        "_uuid": "4637e684a0f90e5ea77c93cb4fc439b31c25f59c",
        "trusted": false,
        "collapsed": true
      },
      "cell_type": "code",
      "source": "users.age.describe()",
      "execution_count": null,
      "outputs": []
    },
    {
      "metadata": {
        "_uuid": "a399c2afb7fac52945800d4176c141853902ce12"
      },
      "cell_type": "markdown",
      "source": "There is some inconsistency in the age of some users as we can see above. It could be because the `age` inpout field was not sanitized or there was some mistakes handlig the data."
    },
    {
      "metadata": {
        "_uuid": "d47bb11ed1e88fdcbbd7857d69439119f0be83ed",
        "trusted": false,
        "collapsed": true
      },
      "cell_type": "code",
      "source": "print(sum(users.age > 122))\nprint(sum(users.age < 18))",
      "execution_count": null,
      "outputs": []
    },
    {
      "metadata": {
        "_uuid": "2000ce4b0e02e871ba7455415b0f438da2591143"
      },
      "cell_type": "markdown",
      "source": "So far, do we have 801 users with [the longest confirmed human lifespan record](https://en.wikipedia.org/wiki/Jeanne_Calment) and 176 little *gangsters* breaking the [Aribnb Eligibility Terms](https://www.airbnb.com/terms)?"
    },
    {
      "metadata": {
        "_uuid": "68f72dda6e90f1b1619acca3427caab757c342c0",
        "trusted": false,
        "collapsed": true
      },
      "cell_type": "code",
      "source": "users[users.age > 122]['age'].describe()",
      "execution_count": null,
      "outputs": []
    },
    {
      "metadata": {
        "_uuid": "6934d6206530ca2904d3e4f5474a41fedf19d9e5"
      },
      "cell_type": "markdown",
      "source": "It's seems that the weird values are caused by the appearance of 2014. I didn't figured why, but I supose that might be related with a wrong input being added with the new users."
    },
    {
      "metadata": {
        "_uuid": "3a6b43b8b2886bb628c473214b3f9106e84adcb1",
        "trusted": false,
        "collapsed": true
      },
      "cell_type": "code",
      "source": "users[users.age < 18]['age'].describe()",
      "execution_count": null,
      "outputs": []
    },
    {
      "metadata": {
        "_uuid": "e1471e50ac0bc7ff37f633a76ef7257962de4a98"
      },
      "cell_type": "markdown",
      "source": "The young users seems to be under an acceptable range being the 50% of those users above 16 years old. \nWe will need to hande the outliers. The simple thing that came to my mind it's to set an acceptance range and put those out of it to NaN."
    },
    {
      "metadata": {
        "_uuid": "7c190562abeed7070e8ed031b75d4a4d1b5531d6",
        "trusted": false,
        "collapsed": true
      },
      "cell_type": "code",
      "source": "users.loc[users.age > 95, 'age'] = np.nan\nusers.loc[users.age < 13, 'age'] = np.nan",
      "execution_count": null,
      "outputs": []
    },
    {
      "metadata": {
        "_uuid": "d47b031672d548ae4bf7e49ac073dcb5d38bba1e"
      },
      "cell_type": "markdown",
      "source": "### Data Types"
    },
    {
      "metadata": {
        "_uuid": "8395e4578dc4ec027c61ac0eb158b7ec59c7ecf4"
      },
      "cell_type": "markdown",
      "source": "Let's treat each feature as what they are. This means we need to transform into categorical those features that we treas as categories and the same with the dates:"
    },
    {
      "metadata": {
        "_uuid": "416daa1caf8e259e8096be920c079a955e817aa0",
        "trusted": false,
        "collapsed": true
      },
      "cell_type": "code",
      "source": "categorical_features = [\n    'affiliate_channel',\n    'affiliate_provider',\n    'country_destination',\n    'first_affiliate_tracked',\n    'first_browser',\n    'first_device_type',\n    'gender',\n    'language',\n    'signup_app',\n    'signup_method'\n]\n\nfor categorical_feature in categorical_features:\n    users[categorical_feature] = users[categorical_feature].astype('category')",
      "execution_count": null,
      "outputs": []
    },
    {
      "metadata": {
        "_uuid": "6569b7a70bcde5c716dc6888c5f5442e68db7226",
        "trusted": false,
        "collapsed": true
      },
      "cell_type": "code",
      "source": "users['date_account_created'] = pd.to_datetime(users['date_account_created'])\nusers['date_first_booking'] = pd.to_datetime(users['date_first_booking'])\nusers['date_first_active'] = pd.to_datetime((users.timestamp_first_active // 1000000), format='%Y%m%d')",
      "execution_count": null,
      "outputs": []
    },
    {
      "metadata": {
        "_uuid": "18864b3340517f85bef5157233d61076d31ff44f"
      },
      "cell_type": "markdown",
      "source": "### Visualizing the Data"
    },
    {
      "metadata": {
        "_uuid": "c19519d534c522f8864fb93b1fc53021d6e0a56e"
      },
      "cell_type": "markdown",
      "source": "Usually, looking at tables, percentiles, means, and other several measures at this state is rarely useful unless you know very well your data.\n\nFor me, it's usually better to visualize the data in some way. Visualization makes me see the outliers and errors immediately!"
    },
    {
      "metadata": {
        "_uuid": "3796aa64e12ff507908451b9193fedcb9f1ec197"
      },
      "cell_type": "markdown",
      "source": "#### Gender"
    },
    {
      "metadata": {
        "_uuid": "dbcdd1df63223dc46e6157f7ff3c0c4152aca44c",
        "trusted": false,
        "collapsed": true
      },
      "cell_type": "code",
      "source": "users.gender.value_counts(dropna=False).plot(kind='bar', color='#FD5C64', rot=0)\nplt.xlabel('Gender')\nsns.despine()",
      "execution_count": null,
      "outputs": []
    },
    {
      "metadata": {
        "_uuid": "f54a8096229e08dd7d83716cd5594efa8e68f49b"
      },
      "cell_type": "markdown",
      "source": "As we've seen before at this plot we can see the ammount of missing data in perspective. Also, notice that there is a slight difference between user gender.\n\nNext thing it might be interesting to see if there is any gender preferences when travelling:"
    },
    {
      "metadata": {
        "_uuid": "bce13ad837b910453f39efaf4322db870b331071",
        "trusted": false,
        "collapsed": true
      },
      "cell_type": "code",
      "source": "women = sum(users['gender'] == 'FEMALE')\nmen = sum(users['gender'] == 'MALE')\n\nfemale_destinations = users.loc[users['gender'] == 'FEMALE', 'country_destination'].value_counts() / women * 100\nmale_destinations = users.loc[users['gender'] == 'MALE', 'country_destination'].value_counts() / men * 100\n\n# Bar width\nwidth = 0.4\n\nmale_destinations.plot(kind='bar', width=width, color='#4DD3C9', position=0, label='Male', rot=0)\nfemale_destinations.plot(kind='bar', width=width, color='#FFA35D', position=1, label='Female', rot=0)\n\nplt.legend()\nplt.xlabel('Destination Country')\nplt.ylabel('Percentage')\n\nsns.despine()\nplt.show()",
      "execution_count": null,
      "outputs": []
    },
    {
      "metadata": {
        "_uuid": "3deba2fa274bcf5a3448b45b27d7d5e32ecbc48c"
      },
      "cell_type": "markdown",
      "source": "There are no big differences between the 2 main genders, so this plot it's not really ussefull except to know the relative destination frecuency of the countries. Let's see it clear here:"
    },
    {
      "metadata": {
        "_uuid": "b36faf19b459271c18350f2f0d7d6278803d36b5",
        "trusted": false,
        "collapsed": true
      },
      "cell_type": "code",
      "source": "destination_percentage = users.country_destination.value_counts() / users.shape[0] * 100\ndestination_percentage.plot(kind='bar',color='#FD5C64', rot=0)\n# Using seaborn can also be plotted\n# sns.countplot(x=\"country_destination\", data=users, order=list(users.country_destination.value_counts().keys()))\nplt.xlabel('Destination Country')\nplt.ylabel('Percentage')\nsns.despine()",
      "execution_count": null,
      "outputs": []
    },
    {
      "metadata": {
        "_uuid": "1716057ee1df48384f5aa2b29eeeea766350be23"
      },
      "cell_type": "markdown",
      "source": "The first thing we can see that if there is a reservation, it's likely to be inside the US. But there is a 45% of people that never did a reservation."
    },
    {
      "metadata": {
        "_uuid": "4874b8bf5b0fa832a36dacd39d7fb26d080f00fe"
      },
      "cell_type": "markdown",
      "source": "#### Age"
    },
    {
      "metadata": {
        "_uuid": "e663ac823e2c741558efa5c99e532e81581c72f6"
      },
      "cell_type": "markdown",
      "source": "Now that I know there is no difference between male and female reservations at first sight I'll dig into the age."
    },
    {
      "metadata": {
        "_uuid": "bc898b053357655d1cf0e6c101c86b5a94a3ac85",
        "trusted": false,
        "collapsed": true
      },
      "cell_type": "code",
      "source": "sns.distplot(users.age.dropna(), color='#FD5C64')\nplt.xlabel('Age')\nsns.despine()",
      "execution_count": null,
      "outputs": []
    },
    {
      "metadata": {
        "_uuid": "1579691de33c03b0c411973902b38358cb8d855c"
      },
      "cell_type": "markdown",
      "source": "As expected, the common age to travel is between 25 and 40. Let's see if, for example, older people travel in a different way. Let's pick an arbitrary age to split into two groups. Maybe 45?"
    },
    {
      "metadata": {
        "_uuid": "7b4e543bdcace7625303ca1c382684637ade2dd3",
        "trusted": false,
        "collapsed": true
      },
      "cell_type": "code",
      "source": "age = 45\n\nyounger = sum(users.loc[users['age'] < age, 'country_destination'].value_counts())\nolder = sum(users.loc[users['age'] > age, 'country_destination'].value_counts())\n\nyounger_destinations = users.loc[users['age'] < age, 'country_destination'].value_counts() / younger * 100\nolder_destinations = users.loc[users['age'] > age, 'country_destination'].value_counts() / older * 100\n\nyounger_destinations.plot(kind='bar', width=width, color='#63EA55', position=0, label='Youngers', rot=0)\nolder_destinations.plot(kind='bar', width=width, color='#4DD3C9', position=1, label='Olders', rot=0)\n\nplt.legend()\nplt.xlabel('Destination Country')\nplt.ylabel('Percentage')\n\nsns.despine()\nplt.show()",
      "execution_count": null,
      "outputs": []
    },
    {
      "metadata": {
        "_uuid": "ee1ea54e64ede0dbdb56ed8083ccabcec59c2205"
      },
      "cell_type": "markdown",
      "source": "We can see that the young people tends to stay in the US, and the older people choose to travel outside the country. Of vourse, there are no big differences between them and we must remember that we do not have the 42% of the ages. \n\nThe first thing I thought when reading the problem was the importance of the native lenguage when choosing the destination country. So let's see how manny users use english as main language:"
    },
    {
      "metadata": {
        "_uuid": "ba29010dd6eb2b007c4eb7af8ce7f97c8342ce96",
        "trusted": false,
        "collapsed": true
      },
      "cell_type": "code",
      "source": "print((sum(users.language == 'en') / users.shape[0])*100)",
      "execution_count": null,
      "outputs": []
    },
    {
      "metadata": {
        "_uuid": "ce5e40462062b071722466f795efa4764fe72b4d"
      },
      "cell_type": "markdown",
      "source": "With the 96% of users using English as their language, it is understandable that a lot of people stay in the US. Someone maybe thinking, if the language is important, why not travel to GB? We need to remember that there is also a lot of factor we are not acounting so making assumpions or predictions like that might be dangerous."
    },
    {
      "metadata": {
        "_uuid": "078a566929003f8268aa58af7012c16da0556172"
      },
      "cell_type": "markdown",
      "source": "#### Dates"
    },
    {
      "metadata": {
        "_uuid": "fd19b4a4327926e18daadec932911c624209205e"
      },
      "cell_type": "markdown",
      "source": "To see the dates of our users and the timespan of them, let's plot the number of accounts created by time:"
    },
    {
      "metadata": {
        "_uuid": "80833fdac19dc33e7b3723ac441c04cbb2573ae6",
        "trusted": false,
        "collapsed": true
      },
      "cell_type": "code",
      "source": "sns.set_style(\"whitegrid\", {'axes.edgecolor': '0'})\nsns.set_context(\"poster\", font_scale=1.1)\nusers.date_account_created.value_counts().plot(kind='line', linewidth=1.2, color='#FD5C64')",
      "execution_count": null,
      "outputs": []
    },
    {
      "metadata": {
        "_uuid": "e23fbb32bc36594f7bd201f2a9cf37f0d1577310"
      },
      "cell_type": "markdown",
      "source": "It's appreciable how fast Airbnb has grown over the last 3 years. Does this correlate with the date when the user was active for the first time? It should be very similar, so doing this is a way to check the data!"
    },
    {
      "metadata": {
        "_uuid": "8f420947aec1531db66079f06eba79ec07c01b08",
        "trusted": false,
        "collapsed": true
      },
      "cell_type": "code",
      "source": "users.date_first_active.value_counts().plot(kind='line', linewidth=1.2, color='#FD5C64')",
      "execution_count": null,
      "outputs": []
    },
    {
      "metadata": {
        "_uuid": "93cb1f6fb273ca370fde29d35028eadc40e1bfb4"
      },
      "cell_type": "markdown",
      "source": "We can se that's almost the same as `date_account_created`, and also, notice the small peaks. We can, either smooth the graph or dig into those peaks. Let's dig in:"
    },
    {
      "metadata": {
        "_uuid": "f87f1dc540c9943e35b42f707a8124917cae4949",
        "trusted": false,
        "collapsed": true
      },
      "cell_type": "code",
      "source": "users_2013 = users[users['date_first_active'] > pd.to_datetime(20130101, format='%Y%m%d')]\nusers_2013 = users_2013[users_2013['date_first_active'] < pd.to_datetime(20140101, format='%Y%m%d')]\nusers_2013.date_first_active.value_counts().plot(kind='line', linewidth=2, color='#FD5C64')\nplt.show()",
      "execution_count": null,
      "outputs": []
    },
    {
      "metadata": {
        "_uuid": "03b64b024e7fb0af3dbb0f9907ca4217ca511c12"
      },
      "cell_type": "markdown",
      "source": "At first sight we can see a small pattern, there are some peaks at the same distance. Looking more closely:"
    },
    {
      "metadata": {
        "_uuid": "248243f3ca8542a0c92aa4c8c197aadc8ac313c6",
        "trusted": false,
        "collapsed": true
      },
      "cell_type": "code",
      "source": "weekdays = []\nfor date in users.date_account_created:\n    weekdays.append(date.weekday())\nweekdays = pd.Series(weekdays)",
      "execution_count": null,
      "outputs": []
    },
    {
      "metadata": {
        "_uuid": "fd8a699d5485747fb466cdf9ccc83bd6c5f09dc7",
        "trusted": false,
        "collapsed": true
      },
      "cell_type": "code",
      "source": "sns.barplot(x = weekdays.value_counts().index, y=weekdays.value_counts().values, order=range(0,7))\nplt.xlabel('Week Day')\nsns.despine()",
      "execution_count": null,
      "outputs": []
    },
    {
      "metadata": {
        "_uuid": "9bd55fc076dfd6689bdf080423c088b24984d20e"
      },
      "cell_type": "markdown",
      "source": "The local minimums where the Sundays(where the people use less *the Internet*), and it's usually to hit a maximum at Tuesdays!\n\nThe last date related plot I want to see is the next:"
    },
    {
      "metadata": {
        "_uuid": "91bf89703c9ebf587b939e7cf24b3bc5b154aa22",
        "trusted": false,
        "collapsed": true
      },
      "cell_type": "code",
      "source": "date = pd.to_datetime(20140101, format='%Y%m%d')\n\nbefore = sum(users.loc[users['date_first_active'] < date, 'country_destination'].value_counts())\nafter = sum(users.loc[users['date_first_active'] > date, 'country_destination'].value_counts())\nbefore_destinations = users.loc[users['date_first_active'] < date, \n                                'country_destination'].value_counts() / before * 100\nafter_destinations = users.loc[users['date_first_active'] > date, \n                               'country_destination'].value_counts() / after * 100\nbefore_destinations.plot(kind='bar', width=width, color='#63EA55', position=0, label='Before 2014', rot=0)\nafter_destinations.plot(kind='bar', width=width, color='#4DD3C9', position=1, label='After 2014', rot=0)\n\nplt.legend()\nplt.xlabel('Destination Country')\nplt.ylabel('Percentage')\n\nsns.despine()\nplt.show()",
      "execution_count": null,
      "outputs": []
    },
    {
      "metadata": {
        "_uuid": "068c83e421f9e3f676b5a6ed1649d5c78c0b863e"
      },
      "cell_type": "markdown",
      "source": "It's a clean comparision of usual destinations then and now, where we can see how the new users, register more and book less, and when they book they stay at the US."
    },
    {
      "metadata": {
        "_uuid": "33e0454d6d2f5951caa25cb8b5f6b2fae37412ab"
      },
      "cell_type": "markdown",
      "source": "I'll make more plots about the devices and singup methods/flow later this week. I hope you all have enjoyed this little analysis that despine not being very rellevant to make the predictions, it is to understand the problem and the user behaviour. \n\nAgain, criticism is welcomed!\n\n                                                                                David Gasquez"
    }
  ],
  "metadata": {
    "kernelspec": {
      "display_name": "Python 3",
      "language": "python",
      "name": "python3"
    }
  },
  "nbformat": 4,
  "nbformat_minor": 1
}